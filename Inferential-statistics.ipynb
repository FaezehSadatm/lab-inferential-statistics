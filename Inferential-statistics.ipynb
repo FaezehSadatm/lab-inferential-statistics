{
 "cells": [
  {
   "cell_type": "markdown",
   "id": "21f97dc9",
   "metadata": {},
   "source": [
    "### 1. It is assumed that the mean systolic blood pressure is μ = 120 mm Hg. In the Honolulu Heart Study, a sample of n = 100 people had an average systolic blood pressure of 130.1 mm Hg with a standard deviation of 21.21 mm Hg. Is the group significantly different (with respect to systolic blood pressure!) from the regular population?"
   ]
  },
  {
   "cell_type": "markdown",
   "id": "dac1a2a8",
   "metadata": {},
   "source": [
    "#### Set up the hypothesis test.\n",
    "#### Write down all the steps followed for setting up the test."
   ]
  },
  {
   "cell_type": "markdown",
   "id": "3dd84663",
   "metadata": {},
   "source": [
    "null hypothesis ====> H0: μ = 120"
   ]
  },
  {
   "cell_type": "markdown",
   "id": "59629a85",
   "metadata": {},
   "source": [
    "alternative hypothesis ====> H1: μ > 120"
   ]
  },
  {
   "cell_type": "markdown",
   "id": "bcff99b6",
   "metadata": {},
   "source": [
    "Sample mean ====> x̄ = 130.1"
   ]
  },
  {
   "cell_type": "markdown",
   "id": "253c5c5e",
   "metadata": {},
   "source": [
    "sample size ====> n = 100 (n > 30)"
   ]
  },
  {
   "cell_type": "markdown",
   "id": "827b4766",
   "metadata": {},
   "source": [
    "degrees of freedom (df) ====> n - 1 = 99"
   ]
  },
  {
   "cell_type": "markdown",
   "id": "625c85b4",
   "metadata": {},
   "source": [
    "Population standard deviation ====> σ = 21.21"
   ]
  },
  {
   "cell_type": "markdown",
   "id": "d3d816df",
   "metadata": {},
   "source": [
    "Since it is a right-tailed test ====> μ > μ0 (130.1 > 120)"
   ]
  },
  {
   "cell_type": "markdown",
   "id": "b0b54a60",
   "metadata": {},
   "source": [
    " Significance Level(α) = 0.05"
   ]
  },
  {
   "cell_type": "markdown",
   "id": "fc6821ba",
   "metadata": {},
   "source": [
    "the critical value ====>  1 - α = 0.95"
   ]
  },
  {
   "cell_type": "markdown",
   "id": "6815dff7",
   "metadata": {},
   "source": [
    "Then look at the 0.95 in z-table = 1.645"
   ]
  },
  {
   "cell_type": "markdown",
   "id": "36906e9d",
   "metadata": {},
   "source": [
    "Critical region: (-∞, 1.645]"
   ]
  },
  {
   "cell_type": "markdown",
   "id": "41cd7959",
   "metadata": {},
   "source": [
    "#### Calculate the test statistic by hand and also code it in Python. It should be 4.76190. We will take a look at how to make decisions based on this calculated value."
   ]
  },
  {
   "cell_type": "markdown",
   "id": "210ac18f",
   "metadata": {},
   "source": [
    "z-Test score = (x̄ – μ) / (σ / √n)\n",
    "\n",
    "z-test score = 4.762"
   ]
  },
  {
   "cell_type": "code",
   "execution_count": 3,
   "id": "75919e06",
   "metadata": {},
   "outputs": [
    {
     "data": {
      "text/plain": [
       "4.761904761904759"
      ]
     },
     "execution_count": 3,
     "metadata": {},
     "output_type": "execute_result"
    }
   ],
   "source": [
    "import math\n",
    "\n",
    "sample_mean = 130.1\n",
    "pop_mean = 120\n",
    "pop_std = 21.21\n",
    "n = 100\n",
    "\n",
    "\n",
    "statistic = (sample_mean - pop_mean)/(pop_std/math.sqrt(n))\n",
    "statistic"
   ]
  },
  {
   "cell_type": "markdown",
   "id": "b1f61c58",
   "metadata": {},
   "source": [
    "### Conclusions\n",
    "\n",
    "#### Our Z-score dosen't belong to the critical region, so we reject null hypothesis(H₀) and accept H1.\n",
    "#### So there is enough evidence to support the claim the mean systolic blood pressure is more than 120!"
   ]
  }
 ],
 "metadata": {
  "kernelspec": {
   "display_name": "Python 3 (ipykernel)",
   "language": "python",
   "name": "python3"
  },
  "language_info": {
   "codemirror_mode": {
    "name": "ipython",
    "version": 3
   },
   "file_extension": ".py",
   "mimetype": "text/x-python",
   "name": "python",
   "nbconvert_exporter": "python",
   "pygments_lexer": "ipython3",
   "version": "3.9.12"
  }
 },
 "nbformat": 4,
 "nbformat_minor": 5
}
